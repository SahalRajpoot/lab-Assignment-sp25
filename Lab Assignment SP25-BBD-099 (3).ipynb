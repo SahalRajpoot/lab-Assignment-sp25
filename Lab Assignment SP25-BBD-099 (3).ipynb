{
 "cells": [
  {
   "cell_type": "code",
   "execution_count": 1,
   "id": "8174b058-0470-438a-9b70-21fc6e2541b6",
   "metadata": {},
   "outputs": [
    {
     "name": "stdout",
     "output_type": "stream",
     "text": [
      "['pushpa', 'lekh', 'inseption']\n"
     ]
    }
   ],
   "source": [
    "# Question 1:\n",
    "movies = ['pushpa', 'lekh', 'inseption']\n",
    "print(movies)"
   ]
  },
  {
   "cell_type": "code",
   "execution_count": 2,
   "id": "6a809c0a-845d-44dd-a15c-ac7206264406",
   "metadata": {},
   "outputs": [
    {
     "name": "stdout",
     "output_type": "stream",
     "text": [
      "pushpa\n",
      "lekh\n",
      "inseption\n"
     ]
    }
   ],
   "source": [
    "# Question 2:\n",
    "movies = ['pushpa', 'lekh', 'inseption']\n",
    "for movie in movies:\n",
    "    print(movie)"
   ]
  },
  {
   "cell_type": "code",
   "execution_count": 4,
   "id": "8e6a1e06-7ced-48f8-945f-39dc8f428343",
   "metadata": {},
   "outputs": [
    {
     "name": "stdout",
     "output_type": "stream",
     "text": [
      "1 pushpa\n",
      "2 lekh\n",
      "3 inseption\n"
     ]
    }
   ],
   "source": [
    "# Question 3:\n",
    "movies = ['pushpa', 'lekh', 'inseption']\n",
    "for movie in range(len(movies)):\n",
    "    print(movie, movies[movie])"
   ]
  },
  {
   "cell_type": "code",
   "execution_count": 5,
   "id": "b65948a4-5fef-4b54-83d2-c99788f318a0",
   "metadata": {},
   "outputs": [
    {
     "name": "stdout",
     "output_type": "stream",
     "text": [
      "S\n",
      "a\n",
      "h\n",
      "a\n",
      "l\n"
     ]
    }
   ],
   "source": [
    "# Question 4:\n",
    "name = 'Sahal'\n",
    "for naam in name:\n",
    "    print(naam)"
   ]
  },
  {
   "cell_type": "code",
   "execution_count": 9,
   "id": "8b83b165-1c2a-4ed7-ab77-2b97b18d3fe7",
   "metadata": {},
   "outputs": [
    {
     "name": "stdout",
     "output_type": "stream",
     "text": [
      "5\n"
     ]
    }
   ],
   "source": [
    "# Question 5:\n",
    "name = \"Sahal Rajpoot\"\n",
    "vowels = \"aeiouAEIOU\"\n",
    "count = sum(name.count(v) for v in vowels)\n",
    "print(count)"
   ]
  },
  {
   "cell_type": "code",
   "execution_count": null,
   "id": "42c5fc80-4398-4b57-8dbd-27e9bcadf6fe",
   "metadata": {},
   "outputs": [],
   "source": []
  }
 ],
 "metadata": {
  "kernelspec": {
   "display_name": "Python 3 (ipykernel)",
   "language": "python",
   "name": "python3"
  },
  "language_info": {
   "codemirror_mode": {
    "name": "ipython",
    "version": 3
   },
   "file_extension": ".py",
   "mimetype": "text/x-python",
   "name": "python",
   "nbconvert_exporter": "python",
   "pygments_lexer": "ipython3",
   "version": "3.13.2"
  }
 },
 "nbformat": 4,
 "nbformat_minor": 5
}
